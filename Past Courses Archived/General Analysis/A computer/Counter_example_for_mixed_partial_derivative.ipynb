{
 "cells": [
  {
   "cell_type": "code",
   "execution_count": 26,
   "id": "a77e8b1d-90a9-4820-b0bf-27a9cdbccfb7",
   "metadata": {},
   "outputs": [
    {
     "ename": "ValueError",
     "evalue": "(x^2 - y^2)*x*y/(x^2 + y^2) does not determine real interval",
     "output_type": "error",
     "traceback": [
      "\u001b[0;31m---------------------------------------------------------------------------\u001b[0m",
      "\u001b[0;31mValueError\u001b[0m                                Traceback (most recent call last)",
      "Cell \u001b[0;32mIn[26], line 9\u001b[0m\n\u001b[1;32m      6\u001b[0m piece2 \u001b[38;5;241m=\u001b[39m (Integer(\u001b[38;5;241m0\u001b[39m), (x, y) \u001b[38;5;241m==\u001b[39m (Integer(\u001b[38;5;241m0\u001b[39m), Integer(\u001b[38;5;241m0\u001b[39m)))\n\u001b[1;32m      8\u001b[0m \u001b[38;5;66;03m# Define the piecewise function\u001b[39;00m\n\u001b[0;32m----> 9\u001b[0m f \u001b[38;5;241m=\u001b[39m \u001b[43mpiecewise\u001b[49m\u001b[43m(\u001b[49m\u001b[43m[\u001b[49m\u001b[43mpiece1\u001b[49m\u001b[43m,\u001b[49m\u001b[43m \u001b[49m\u001b[43mpiece2\u001b[49m\u001b[43m]\u001b[49m\u001b[43m)\u001b[49m\n\u001b[1;32m     11\u001b[0m \u001b[38;5;66;03m# Display the function\u001b[39;00m\n\u001b[1;32m     12\u001b[0m show(f)\n",
      "File \u001b[0;32m/private/var/tmp/sage-10.3-current/local/var/lib/sage/venv-python3.11.1/lib/python3.11/site-packages/sage/functions/piecewise.py:145\u001b[0m, in \u001b[0;36mPiecewiseFunction.__call__\u001b[0;34m(self, function_pieces, **kwds)\u001b[0m\n\u001b[1;32m    143\u001b[0m domain, function \u001b[38;5;241m=\u001b[39m piece\n\u001b[1;32m    144\u001b[0m \u001b[38;5;28;01mif\u001b[39;00m \u001b[38;5;129;01mnot\u001b[39;00m \u001b[38;5;28misinstance\u001b[39m(domain, RealSet):\n\u001b[0;32m--> 145\u001b[0m     domain \u001b[38;5;241m=\u001b[39m \u001b[43mRealSet\u001b[49m\u001b[43m(\u001b[49m\u001b[43mdomain\u001b[49m\u001b[43m)\u001b[49m\n\u001b[1;32m    146\u001b[0m \u001b[38;5;28;01mif\u001b[39;00m domain\u001b[38;5;241m.\u001b[39mis_empty():\n\u001b[1;32m    147\u001b[0m     \u001b[38;5;28;01mcontinue\u001b[39;00m\n",
      "File \u001b[0;32m/private/var/tmp/sage-10.3-current/local/var/lib/sage/venv-python3.11.1/lib/python3.11/site-packages/sage/misc/classcall_metaclass.pyx:320\u001b[0m, in \u001b[0;36msage.misc.classcall_metaclass.ClasscallMetaclass.__call__ (build/cythonized/sage/misc/classcall_metaclass.c:3175)\u001b[0;34m()\u001b[0m\n\u001b[1;32m    318\u001b[0m \"\"\"\n\u001b[1;32m    319\u001b[0m if cls.classcall is not None:\n\u001b[0;32m--> 320\u001b[0m     return cls.classcall(cls, *args, **kwds)\n\u001b[1;32m    321\u001b[0m else:\n\u001b[1;32m    322\u001b[0m     # Fast version of type.__call__(cls, *args, **kwds)\n",
      "File \u001b[0;32m/private/var/tmp/sage-10.3-current/local/var/lib/sage/venv-python3.11.1/lib/python3.11/site-packages/sage/sets/real_set.py:1316\u001b[0m, in \u001b[0;36mRealSet.__classcall__\u001b[0;34m(cls, *args, **kwds)\u001b[0m\n\u001b[1;32m   1313\u001b[0m             intervals\u001b[38;5;241m.\u001b[39mappend(InternalRealInterval(lower, lower_closed,\n\u001b[1;32m   1314\u001b[0m                                                   upper, upper_closed))\n\u001b[1;32m   1315\u001b[0m         \u001b[38;5;28;01melse\u001b[39;00m:\n\u001b[0;32m-> 1316\u001b[0m             \u001b[38;5;28;01mraise\u001b[39;00m \u001b[38;5;167;01mValueError\u001b[39;00m(\u001b[38;5;28mstr\u001b[39m(arg) \u001b[38;5;241m+\u001b[39m \u001b[38;5;124m'\u001b[39m\u001b[38;5;124m does not determine real interval\u001b[39m\u001b[38;5;124m'\u001b[39m)\n\u001b[1;32m   1318\u001b[0m union_intervals \u001b[38;5;241m=\u001b[39m RealSet\u001b[38;5;241m.\u001b[39mnormalize(intervals)\n\u001b[1;32m   1319\u001b[0m \u001b[38;5;28;01mreturn\u001b[39;00m UniqueRepresentation\u001b[38;5;241m.\u001b[39m__classcall__(\u001b[38;5;28mcls\u001b[39m, \u001b[38;5;241m*\u001b[39munion_intervals, normalized\u001b[38;5;241m=\u001b[39m\u001b[38;5;28;01mTrue\u001b[39;00m)\n",
      "\u001b[0;31mValueError\u001b[0m: (x^2 - y^2)*x*y/(x^2 + y^2) does not determine real interval"
     ]
    }
   ],
   "source": [
    "# Define the variables\n",
    "var('x y')\n",
    "\n",
    "# Define the function pieces\n",
    "piece1 = (x*y*(x^2 - y^2)/(x^2 + y^2), (x, y) != (0, 0))\n",
    "piece2 = (0, (x, y) == (0, 0))\n",
    "\n",
    "# Define the piecewise function\n",
    "f = piecewise([piece1, piece2])\n",
    "\n",
    "# Display the function\n",
    "show(f)\n"
   ]
  },
  {
   "cell_type": "code",
   "execution_count": null,
   "id": "03f731b8-e9ef-43dc-b497-8720356460a5",
   "metadata": {},
   "outputs": [],
   "source": []
  },
  {
   "cell_type": "code",
   "execution_count": null,
   "id": "a4d0edf7-4cad-438e-8beb-29921626f92d",
   "metadata": {},
   "outputs": [],
   "source": []
  },
  {
   "cell_type": "code",
   "execution_count": null,
   "id": "aacc8a9d-0011-45c4-9d5a-977f30e899c6",
   "metadata": {},
   "outputs": [],
   "source": []
  },
  {
   "cell_type": "code",
   "execution_count": null,
   "id": "096cb445-0b13-4c0a-9dd2-bbe9f289203e",
   "metadata": {},
   "outputs": [],
   "source": []
  },
  {
   "cell_type": "code",
   "execution_count": null,
   "id": "29e358f5-124e-4c79-8195-e20b282870dc",
   "metadata": {},
   "outputs": [],
   "source": []
  }
 ],
 "metadata": {
  "kernelspec": {
   "display_name": "SageMath 10.3",
   "language": "sage",
   "name": "sagemath-10.3"
  },
  "language_info": {
   "codemirror_mode": {
    "name": "ipython",
    "version": 3
   },
   "file_extension": ".py",
   "mimetype": "text/x-python",
   "name": "python",
   "nbconvert_exporter": "python",
   "pygments_lexer": "ipython3",
   "version": "3.11.1"
  }
 },
 "nbformat": 4,
 "nbformat_minor": 5
}
